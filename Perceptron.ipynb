{
 "cells": [
  {
   "cell_type": "code",
   "execution_count": 201,
   "metadata": {},
   "outputs": [],
   "source": [
    "%matplotlib inline\n",
    "from matplotlib import pyplot as plt\n",
    "import numpy as np"
   ]
  },
  {
   "cell_type": "code",
   "execution_count": 202,
   "metadata": {},
   "outputs": [],
   "source": [
    "INPUT_SIZE = 21\n",
    "EPOCH = 100\n",
    "L_RATE = 0.01\n",
    "\n",
    "TRAIN_SIZE=300\n",
    "TEST_SIZE=100\n"
   ]
  },
  {
   "cell_type": "markdown",
   "metadata": {},
   "source": [
    "# Activation function\n",
    "Implement the activation function.\n",
    "Return 1 if the input is greater than or equal to 0 and 0 otherwise."
   ]
  },
  {
   "cell_type": "code",
   "execution_count": 203,
   "metadata": {},
   "outputs": [],
   "source": [
    "    def activation_fn(input_vector):\n",
    "        return 1 if input_vector >= 0  else 0"
   ]
  },
  {
   "cell_type": "markdown",
   "metadata": {},
   "source": [
    "# Prediction\n",
    "Run an input through the perceptron and return an output. \n",
    "Add the bias into the input vector and compute the inner product and apply the activation function.\n",
    "Calculate the input vector * weights vector (including the bias' weight), send to the prediction function and get the result of the activation function."
   ]
  },
  {
   "cell_type": "code",
   "execution_count": 204,
   "metadata": {},
   "outputs": [],
   "source": [
    "    def predict(input_vector, weights):\n",
    "        output = weights.T.dot(input_vector)  #The input vector multiply with the weights vector (including the bias' weight)\n",
    "        result = activation_fn(output)\n",
    "        return result"
   ]
  },
  {
   "cell_type": "markdown",
   "metadata": {},
   "source": [
    "# Training the data\n",
    "Change the weights vector according to the results at the training data set, running for the number of epochs:\n",
    "\n",
    "For each input vector in epoch, \n",
    "1. Define the error as the difference between the desired output and the predicted output (error = labels_tr[i] - output).\n",
    "(when the desired and predicted outputs are the same (both are 0 or both are 1), the error is 0, and when they are different, (0 and 1 or 1 and 0), the error either 1 or -1.\n",
    "2. Calculate the new value of the weights vector by adding it to the multiply of the input with the error and the learning rate (wights + learning rate * error * input_vector).\n"
   ]
  },
  {
   "cell_type": "code",
   "execution_count": 205,
   "metadata": {},
   "outputs": [],
   "source": [
    "    def train_weights(training_set, labels_tr, weights):\n",
    "        #Iterate for the number of epochs requested\n",
    "        for epoch in range(EPOCH):\n",
    "            for i in range(labels_tr.shape[0]):\n",
    "                    input_vector = np.insert(training_set[i], 0, 1) #Insert value -1 of the bias neuron to the input vector\n",
    "                    output = predict(input_vector, weights)\n",
    "                    error = labels_tr[i] - output  #Error rate: label-output\n",
    "                    weights = weights + L_RATE * error * input_vector\n",
    "        return weights\n"
   ]
  },
  {
   "cell_type": "markdown",
   "metadata": {},
   "source": [
    "## The Perceptron"
   ]
  },
  {
   "cell_type": "markdown",
   "metadata": {},
   "source": [
    "Data preperation"
   ]
  },
  {
   "cell_type": "code",
   "execution_count": 206,
   "metadata": {},
   "outputs": [
    {
     "name": "stdout",
     "output_type": "stream",
     "text": [
      "**************TRAINING SET**************\n",
      "[[0 0 0 ... 0 1 1]\n",
      " [0 0 0 ... 0 1 0]\n",
      " [1 0 1 ... 0 0 1]\n",
      " ...\n",
      " [0 0 1 ... 1 0 1]\n",
      " [0 1 0 ... 1 0 0]\n",
      " [0 0 0 ... 1 0 0]]\n",
      "**************LABELS TRAINING SET**************\n",
      "[0 0 0 1 0 0 1 0 1 1 0 1 0 0 0 1 0 1 1 1 1 0 0 1 1 1 0 0 0 1 0 1 1 0 1 1 0\n",
      " 1 0 1 0 0 0 1 0 0 0 1 1 1 0 0 0 0 0 0 0 1 1 0 0 1 0 0 1 1 1 1 0 1 0 0 1 0\n",
      " 0 0 0 1 0 0 1 1 0 1 0 1 0 0 0 1 0 0 1 1 1 0 1 1 1 1 1 0 0 1 1 1 1 0 1 0 0\n",
      " 1 0 0 1 1 0 1 1 0 1 0 0 1 0 1 1 0 1 1 1 0 1 0 1 1 0 0 1 0 0 1 1 0 1 1 1 1\n",
      " 1 0 0 0 0 0 0 0 1 0 0 1 0 0 1 0 1 1 1 0 0 1 1 0 0 0 0 1 0 1 1 1 0 0 0 1 0\n",
      " 1 0 0 0 1 0 0 1 1 0 0 0 1 0 1 0 1 0 0 1 1 0 1 1 0 0 1 0 1 0 1 1 1 0 1 1 0\n",
      " 0 1 1 0 0 0 1 0 1 1 1 0 1 1 0 1 1 1 1 1 1 1 1 0 1 1 0 0 1 1 1 0 0 0 0 1 1\n",
      " 0 1 0 1 0 0 0 0 0 1 1 1 1 0 0 1 0 0 0 1 1 0 0 1 1 0 0 1 0 0 1 1 1 1 1 1 0\n",
      " 1 1 0 0]\n",
      "**************TEST SET**************\n",
      "[[1 1 0 ... 0 0 1]\n",
      " [1 0 1 ... 1 0 0]\n",
      " [1 0 0 ... 1 1 0]\n",
      " ...\n",
      " [0 0 0 ... 1 0 1]\n",
      " [1 1 1 ... 0 0 0]\n",
      " [0 1 0 ... 0 0 1]]\n",
      "**************LABELS TEST SET**************\n",
      "[1 0 1 0 0 0 0 0 0 1 1 1 0 0 1 0 0 0 0 0 0 0 0 0 0 0 1 0 0 1 0 1 0 1 1 0 0\n",
      " 0 1 1 0 1 0 0 0 0 1 1 1 0 1 1 0 0 0 1 0 1 1 1 0 0 0 0 0 0 0 1 0 1 1 1 0 1\n",
      " 1 1 1 0 1 1 1 0 0 1 0 1 0 0 1 0 0 0 0 0 0 0 1 0 0 0]\n"
     ]
    }
   ],
   "source": [
    "#Training set and labels\n",
    "training_set = np.random.randint(2, size=(TRAIN_SIZE, INPUT_SIZE))\n",
    "labels_tr = np.sum(training_set, axis=1)\n",
    "labels_tr[labels_tr<=10] = 0\n",
    "labels_tr[labels_tr>10] = 1\n",
    "\n",
    "#Test set and labels\n",
    "test_set = np.random.randint(2, size=(TEST_SIZE, INPUT_SIZE))\n",
    "labels_te = np.sum(test_set, axis=1)\n",
    "labels_te[labels_te<=10] = 0\n",
    "labels_te[labels_te>10] = 1\n",
    "\n",
    "print(\"**************TRAINING SET**************\")\n",
    "print(training_set)\n",
    "print(\"**************LABELS TRAINING SET**************\")\n",
    "print(labels_tr)\n",
    "print(\"**************TEST SET**************\")\n",
    "print(test_set)\n",
    "print(\"**************LABELS TEST SET**************\")\n",
    "print(labels_te)\n"
   ]
  },
  {
   "cell_type": "markdown",
   "metadata": {},
   "source": [
    "Initialize training weights eith the training data set "
   ]
  },
  {
   "cell_type": "code",
   "execution_count": 207,
   "metadata": {
    "scrolled": true
   },
   "outputs": [
    {
     "name": "stdout",
     "output_type": "stream",
     "text": [
      "**************WEIGHTS AFTER TRAINING**************\n",
      "0      -0.83\n",
      "1      0.1\n",
      "2      0.07\n",
      "3      0.06\n",
      "4      0.07\n",
      "5      0.1\n",
      "6      0.08\n",
      "7      0.06\n",
      "8      0.08\n",
      "9      0.08\n",
      "10      0.08\n",
      "11      0.09\n",
      "12      0.07\n",
      "13      0.07\n",
      "14      0.09\n",
      "15      0.09\n",
      "16      0.09\n",
      "17      0.06\n",
      "18      0.08\n",
      "19      0.07\n",
      "20      0.1\n",
      "21      0.08\n"
     ]
    }
   ],
   "source": [
    "weights = np.zeros(INPUT_SIZE+1)   #Initialize the weights vector. Add 1 for bias neuron\n",
    "\n",
    "weights = train_weights(training_set, labels_tr, weights)\n",
    "\n",
    "print(\"**************WEIGHTS AFTER TRAINING**************\")\n",
    "for (i, item) in enumerate(weights, start=0):\n",
    "    print(i, \"    \", round(item,2))"
   ]
  },
  {
   "cell_type": "markdown",
   "metadata": {},
   "source": [
    "Testing the perceptron network and Calcolate the current accuracy"
   ]
  },
  {
   "cell_type": "code",
   "execution_count": 208,
   "metadata": {},
   "outputs": [
    {
     "name": "stdout",
     "output_type": "stream",
     "text": [
      "**************ACCURACY**************\n",
      "0.99\n"
     ]
    }
   ],
   "source": [
    "correct = 0\n",
    "\n",
    "for i in range(labels_te.shape[0]):\n",
    "    input_vector = np.insert(test_set[i], 0, 1) #Insert value 1 of the bias neuron to the input vector\n",
    "    output = predict(input_vector, weights)\n",
    "    if (labels_te[i] - output == 0):    #Output equals to label\n",
    "        correct += 1\n",
    "    accuracy = correct / TEST_SIZE\n",
    "    \n",
    "print(\"**************ACCURACY**************\")\n",
    "print (accuracy)"
   ]
  }
 ],
 "metadata": {
  "kernelspec": {
   "display_name": "Python 3",
   "language": "python",
   "name": "python3"
  },
  "language_info": {
   "codemirror_mode": {
    "name": "ipython",
    "version": 3
   },
   "file_extension": ".py",
   "mimetype": "text/x-python",
   "name": "python",
   "nbconvert_exporter": "python",
   "pygments_lexer": "ipython3",
   "version": "3.5.0"
  }
 },
 "nbformat": 4,
 "nbformat_minor": 2
}
